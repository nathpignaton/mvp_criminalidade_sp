{
 "cells": [
  {
   "cell_type": "markdown",
   "metadata": {
    "application/vnd.databricks.v1+cell": {
     "cellMetadata": {},
     "inputWidgets": {},
     "nuid": "b6d67c82-523c-4f65-9129-7983337dc722",
     "showTitle": false,
     "tableResultSettingsMap": {},
     "title": ""
    }
   },
   "source": [
    "# Notebook 1 - Ingestão Bronze\n",
    "Neste notebook vamos coletar todos os dados que utilizaremos na nossa análise e armazená-los aqui no Databricks.\n",
    "Os dados foram coletados de sites oficiais e armazenados, inicialmente, no GitHub. O Notebook:\n",
    "- Baixa os arquivos do GitHub;\n",
    "- Transforma em parquet;\n",
    "- Faz uma amostra dos dados de criminalidade (3,6 milhões de registros)."
   ]
  },
  {
   "cell_type": "markdown",
   "metadata": {
    "application/vnd.databricks.v1+cell": {
     "cellMetadata": {},
     "inputWidgets": {},
     "nuid": "8d949e2a-d977-43f2-b35f-62c06a9a7875",
     "showTitle": false,
     "tableResultSettingsMap": {},
     "title": ""
    }
   },
   "source": [
    "## Introdução - Sobre os dados que vamos usar\n",
    "\n",
    "Neste trabalho vamos processar os dados abertos de crimes do estado de São Paulo, dos anos de 2022, 2023 e 2024, disponibilizados no portal de transparência do estado, complementados pelo dicionário de dados fornecido pela Secretaria de Segurança Pública do estado de São Paulo.\n",
    "\n",
    "Os dados completos podem ser encontrados na aba de [estatísticas](https://www.ssp.sp.gov.br/estatistica) do portal de transparência, mais especificamente na parte de [consultas](https://www.ssp.sp.gov.br/estatistica/consultas).\n",
    "\n",
    "Quanto ao dicionário de dados, como eu já tinha a intenção de analisar esses dados e por esses dados serem oficiais do estado de São Paulo, solicitei no portal [Fala SP](https://fala.sp.gov.br/) informações sobre todos os atributos contidos neles.\n",
    "\n",
    "Este é o dicionário:\n",
    "\n",
    "|Atributos|Descrição|\n",
    "|---|---|\n",
    "|ANO\\_BO|Ano do Boletim|\n",
    "|ANO\\_ESTATISTICA|Ano em que a ocorrência foi inserida na estatística oficial |\n",
    "|BAIRRO|Bairro da Ocorrência|\n",
    "|CIDADE|Cidade de Registro|\n",
    "|DATA\\_COMUNICACAO|Data da Comunicação|\n",
    "|DATA\\_OCORRENCIA\\_BO|Data da Ocorrência|\n",
    "|DESC\\_PERIODO|Período da Ocorrência|\n",
    "|DESCR\\_CONDUTA|Tipo de local ou circunstancia que qualifica a ocorrencia|\n",
    "|DESCR\\_TIPOLOCAL|Descreve grupo de tipos de locais onde se deu o fato|\n",
    "|HORA\\_OCORRENCIA\\_BO|Hora da Ocorrência|\n",
    "|LATITUDE|Latitude da Ocorrência|\n",
    "|LOGRADOURO|Logradouro dos fatos|\n",
    "|LONGITUDE|Longitude da Ocorrência|\n",
    "|MÊS ESTATISTICA|Mês em que a ocorrência foi inserida na estatística oficial |\n",
    "|NATUREZA\\_APURADA|Natureza de Publicação|\n",
    "|NOME\\_DELEGACIA|Delegacia responsável pelo registro|\n",
    "|NOME\\_DELEGACIA\\_CIRCUNSCRIÇÃO|Delegacia de Circunscrição|\n",
    "|NOME\\_DEPARTAMENTO|Departamento responsável pelo registro|\n",
    "|NOME\\_DEPARTAMENTO\\_CIRCUNSCRIÇÃO|Departamento de Circunscrição|\n",
    "|NOME\\_MUNICIPIO\\_CIRCUNSCRIÇÃO|Município da Delegacia de Circunscrição|\n",
    "|NOME\\_SECCIONAL|Delegacia Seccional responsável pelo registro|\n",
    "|NOME\\_SECCIONAL\\_CIRCUNSCRIÇÃO|Seccional de Circunscrição|\n",
    "|NUM\\_BO|Número do Boletim|\n",
    "|NUMERO\\_LOGRADOURO|Numero do Logradouro dos fatos|\n",
    "|RUBRICA|Natureza juridica da ocorrencia|\n",
    "\n",
    "\n",
    "Além desses dados, vamos utilizar a base do IBGE de população do estado de São Paulo, os dados podem ser encontrados no Portal do IBGE [Cidades e Estados](https://www.ibge.gov.br/cidades-e-estados) mais especificamente na parte de [São Paulo](https://www.ibge.gov.br/cidades-e-estados/sp.html)."
   ]
  },
  {
   "cell_type": "markdown",
   "metadata": {
    "application/vnd.databricks.v1+cell": {
     "cellMetadata": {},
     "inputWidgets": {},
     "nuid": "b64f775a-096e-47b8-a789-bfe3a37e850b",
     "showTitle": false,
     "tableResultSettingsMap": {},
     "title": ""
    }
   },
   "source": [
    "## 1. Setup Inicial\n",
    "Importanto as bibliotecas necessárias."
   ]
  },
  {
   "cell_type": "code",
   "execution_count": 0,
   "metadata": {
    "application/vnd.databricks.v1+cell": {
     "cellMetadata": {
      "byteLimit": 2048000,
      "rowLimit": 10000
     },
     "inputWidgets": {},
     "nuid": "603dac4c-9849-4497-82f8-105cefc964c5",
     "showTitle": false,
     "tableResultSettingsMap": {},
     "title": ""
    }
   },
   "outputs": [],
   "source": [
    "import urllib.request\n",
    "from pyspark.sql import DataFrame\n",
    "from pyspark.sql.functions import col, count, round\n",
    "\n",
    "import os"
   ]
  },
  {
   "cell_type": "markdown",
   "metadata": {
    "application/vnd.databricks.v1+cell": {
     "cellMetadata": {},
     "inputWidgets": {},
     "nuid": "215a9631-fc5d-4dff-acd5-5e040028267b",
     "showTitle": false,
     "tableResultSettingsMap": {},
     "title": ""
    }
   },
   "source": [
    "## 2. Coletando os Dados\n",
    "Coletando as bases de dados salvas no repositório público no GitHub."
   ]
  },
  {
   "cell_type": "code",
   "execution_count": 0,
   "metadata": {
    "application/vnd.databricks.v1+cell": {
     "cellMetadata": {
      "byteLimit": 2048000,
      "rowLimit": 10000
     },
     "inputWidgets": {},
     "nuid": "ffb75be8-c50c-4143-9e4b-0552fdf66544",
     "showTitle": false,
     "tableResultSettingsMap": {},
     "title": ""
    }
   },
   "outputs": [],
   "source": [
    "anos = [2022, 2023, 2024]\n",
    "meses = [f\"{m:02d}\" for m in range(1, 13)]\n",
    "base_url = \"https://raw.githubusercontent.com/nathpignaton/mvp_criminalidade_sp/main/dados/bronze\"\n",
    "\n",
    "# Criar pastas no DBFS\n",
    "for ano in anos:\n",
    "    dbutils.fs.mkdirs(f\"dbfs:/FileStore/mvp_criminalidade_sp/{ano}\")\n",
    "\n",
    "# Baixar para /tmp e mover para o DBFS\n",
    "for ano in anos:\n",
    "    aa = str(ano)[2:]  # '22', '23', '24'\n",
    "    \n",
    "    for mm in meses:\n",
    "        nome_arquivo = f\"{aa}{mm}SPDC.csv\"\n",
    "        url = f\"{base_url}/{ano}/{nome_arquivo}\"\n",
    "        local_tmp_path = f\"/tmp/{nome_arquivo}\"\n",
    "        dbfs_path = f\"dbfs:/FileStore/mvp_criminalidade_sp/{ano}/{nome_arquivo}\"\n",
    "        \n",
    "        try:\n",
    "            urllib.request.urlretrieve(url, local_tmp_path)\n",
    "            dbutils.fs.cp(f\"file:{local_tmp_path}\", dbfs_path)\n",
    "        except Exception as e:\n",
    "            print(f\"Erro ao baixar {nome_arquivo}: {e}\")"
   ]
  },
  {
   "cell_type": "markdown",
   "metadata": {
    "application/vnd.databricks.v1+cell": {
     "cellMetadata": {},
     "inputWidgets": {},
     "nuid": "856951d3-026b-4792-8427-a053731e191c",
     "showTitle": false,
     "tableResultSettingsMap": {},
     "title": ""
    }
   },
   "source": [
    "Unindo os arquivos baixados."
   ]
  },
  {
   "cell_type": "code",
   "execution_count": 0,
   "metadata": {
    "application/vnd.databricks.v1+cell": {
     "cellMetadata": {
      "byteLimit": 2048000,
      "rowLimit": 10000
     },
     "inputWidgets": {},
     "nuid": "340960ad-5d01-414c-ad18-e3a2f9a329cb",
     "showTitle": false,
     "tableResultSettingsMap": {},
     "title": ""
    }
   },
   "outputs": [
    {
     "output_type": "stream",
     "name": "stdout",
     "output_type": "stream",
     "text": [
      "Arquivos de 2022 lidos.\nArquivos de 2023 lidos.\nArquivos de 2024 lidos.\nroot\n |-- NOME_DEPARTAMENTO: string (nullable = true)\n |-- NOME_SECCIONAL: string (nullable = true)\n |-- NOME_DELEGACIA: string (nullable = true)\n |-- CIDADE: string (nullable = true)\n |-- NUM_BO: string (nullable = true)\n |-- ANO_BO: integer (nullable = true)\n |-- DATA_COMUNICACAO_BO: timestamp (nullable = true)\n |-- DATA_OCORRENCIA_BO: string (nullable = true)\n |-- HORA_OCORRENCIA_BO: timestamp (nullable = true)\n |-- DESCR_PERIODO: string (nullable = true)\n |-- DESCR_TIPOLOCAL: string (nullable = true)\n |-- BAIRRO: string (nullable = true)\n |-- LOGRADOURO: string (nullable = true)\n |-- NUMERO_LOGRADOURO: string (nullable = true)\n |-- LATITUDE: string (nullable = true)\n |-- LONGITUDE: double (nullable = true)\n |-- NOME_DELEGACIA_CIRCUNSCRIÇÃO: string (nullable = true)\n |-- NOME_DEPARTAMENTO_CIRCUNSCRIÇÃO: string (nullable = true)\n |-- NOME_SECCIONAL_CIRCUNSCRIÇÃO: string (nullable = true)\n |-- NOME_MUNICIPIO_CIRCUNSCRIÇÃO: string (nullable = true)\n |-- RUBRICA: string (nullable = true)\n |-- DESCR_CONDUTA: string (nullable = true)\n |-- NATUREZA_APURADA: string (nullable = true)\n |-- MES_ESTATISTICA: integer (nullable = true)\n |-- ANO_ESTATISTICA: integer (nullable = true)\n\n+--------------------+--------------------+--------------------+--------------------+------+------+-------------------+-------------------+-------------------+-------------+--------------------+--------------------+--------------------+-----------------+-----------------+-------------+----------------------------+-------------------------------+----------------------------+----------------------------+--------------------+--------------------+--------------------+---------------+---------------+\n|   NOME_DEPARTAMENTO|      NOME_SECCIONAL|      NOME_DELEGACIA|              CIDADE|NUM_BO|ANO_BO|DATA_COMUNICACAO_BO| DATA_OCORRENCIA_BO| HORA_OCORRENCIA_BO|DESCR_PERIODO|     DESCR_TIPOLOCAL|              BAIRRO|          LOGRADOURO|NUMERO_LOGRADOURO|         LATITUDE|    LONGITUDE|NOME_DELEGACIA_CIRCUNSCRIÇÃO|NOME_DEPARTAMENTO_CIRCUNSCRIÇÃO|NOME_SECCIONAL_CIRCUNSCRIÇÃO|NOME_MUNICIPIO_CIRCUNSCRIÇÃO|             RUBRICA|       DESCR_CONDUTA|    NATUREZA_APURADA|MES_ESTATISTICA|ANO_ESTATISTICA|\n+--------------------+--------------------+--------------------+--------------------+------+------+-------------------+-------------------+-------------------+-------------+--------------------+--------------------+--------------------+-----------------+-----------------+-------------+----------------------------+-------------------------------+----------------------------+----------------------------+--------------------+--------------------+--------------------+---------------+---------------+\n|               DECAP| DEL.SEC.7º ITAQUERA|64º D.P. CID.AE C...|             S.PAULO|BN9200|  2022|2022-05-11 00:00:00|2022-05-10 00:00:00|               null|      A NOITE|          Hospedagem|                  SE|VEDAÇÃO DA DIVULG...|             null|              0.0|          0.0|                 01º D.P. SE|                          DECAP|           DEL.SEC.1º CENTRO|                     S.PAULO|Estupro de vulner...|                null|ESTUPRO DE VULNER...|              5|           2022|\n|DOPE-DEPTO OP POL...|DIV.POL.PORTO/AER...|DOPE - 01ª DP DEA...|S.PAULO          ...|   375|  2022|2022-05-07 00:00:00|2022-05-07 00:00:00|2025-04-11 13:15:00|         null|         Via pública|Centro Histórico ...|         25 de Março|             1025|      -23.5449808|  -46.6325491|                 01º D.P. SE|                          DECAP|           DEL.SEC.1º CENTRO|                     S.PAULO|    Furto (art. 155)|          TRANSEUNTE|      FURTO - OUTROS|              5|           2022|\n|DOPE-DEPTO OP POL...|DIV.POL.PORTO/AER...|DOPE - 01ª DP DEA...|S.PAULO          ...|   376|  2022|2022-05-09 00:00:00|2022-04-30 00:00:00|2025-04-11 17:30:00|         null|         Via pública|                  SE|AVENIDA SENADOR Q...|              200|-23.5394104179999|-46.633368848|                 01º D.P. SE|                          DECAP|           DEL.SEC.1º CENTRO|                     S.PAULO|    Furto (art. 155)|          TRANSEUNTE|      FURTO - OUTROS|              5|           2022|\n|DOPE-DEPTO OP POL...|DIV.POL.PORTO/AER...|DOPE - 01ª DP DEA...|S.PAULO          ...|   378|  2022|2022-05-09 00:00:00|2022-05-08 00:00:00|2025-04-11 17:18:00|         null| Restaurante e afins|                  SE|   RUA DA CANTAREIRA|              390|-23.5419052519999|-46.630120588|                 01º D.P. SE|                          DECAP|           DEL.SEC.1º CENTRO|                     S.PAULO|    Furto (art. 155)|ESTABELECIMENTO C...|      FURTO - OUTROS|              5|           2022|\n|DOPE-DEPTO OP POL...|DIV.POL.PORTO/AER...|DOPE - 01ª DP DEA...|S.PAULO          ...|   379|  2022|2022-05-10 00:00:00|2022-05-10 00:00:00|2025-04-11 08:40:00|         null|Centro Comerc./Em...|Centro Histórico ...| Parque Dom Pedro II|                1|      -23.5447106|  -46.6308658|                 01º D.P. SE|                          DECAP|           DEL.SEC.1º CENTRO|                     S.PAULO|    Furto (art. 155)|          TRANSEUNTE|      FURTO - OUTROS|              5|           2022|\n+--------------------+--------------------+--------------------+--------------------+------+------+-------------------+-------------------+-------------------+-------------+--------------------+--------------------+--------------------+-----------------+-----------------+-------------+----------------------------+-------------------------------+----------------------------+----------------------------+--------------------+--------------------+--------------------+---------------+---------------+\nonly showing top 5 rows\n\n"
     ]
    }
   ],
   "source": [
    "df_union: DataFrame = None\n",
    "\n",
    "for ano in anos:\n",
    "    caminho = f\"/FileStore/mvp_criminalidade_sp/{ano}/*.csv\"\n",
    "    df_temp = spark.read.option(\"header\", True).option(\"inferSchema\", True).csv(caminho)\n",
    "    df_union = df_temp if df_union is None else df_union.union(df_temp)\n",
    "    print(f\"Arquivos de {ano} lidos.\")\n",
    "\n",
    "df_union.printSchema()\n",
    "df_union.show(5)"
   ]
  },
  {
   "cell_type": "markdown",
   "metadata": {
    "application/vnd.databricks.v1+cell": {
     "cellMetadata": {},
     "inputWidgets": {},
     "nuid": "b21e70cc-894b-4fcf-a2dd-a18a726610af",
     "showTitle": false,
     "tableResultSettingsMap": {},
     "title": ""
    }
   },
   "source": [
    "Criando o parquet completo com todos os dados de criminalidade."
   ]
  },
  {
   "cell_type": "code",
   "execution_count": 0,
   "metadata": {
    "application/vnd.databricks.v1+cell": {
     "cellMetadata": {
      "byteLimit": 2048000,
      "rowLimit": 10000
     },
     "inputWidgets": {},
     "nuid": "d33c38f9-3af8-4c5b-a484-d3ecaca5bc98",
     "showTitle": false,
     "tableResultSettingsMap": {},
     "title": ""
    }
   },
   "outputs": [],
   "source": [
    "# não vou rodar essa célula para não substituir o arquivo sem necessidade.\n",
    "df_union.write.mode(\"overwrite\").parquet(\"/FileStore/mvp_criminalidade_sp/bronze/full_bronze.parquet\")"
   ]
  },
  {
   "cell_type": "markdown",
   "metadata": {
    "application/vnd.databricks.v1+cell": {
     "cellMetadata": {},
     "inputWidgets": {},
     "nuid": "98de1a08-d668-4efe-b477-872c013b628f",
     "showTitle": false,
     "tableResultSettingsMap": {},
     "title": ""
    }
   },
   "source": [
    "Criando uma amostra com 0,1% dos registros, para análises teste."
   ]
  },
  {
   "cell_type": "code",
   "execution_count": 0,
   "metadata": {
    "application/vnd.databricks.v1+cell": {
     "cellMetadata": {
      "byteLimit": 2048000,
      "rowLimit": 10000
     },
     "inputWidgets": {},
     "nuid": "911722a8-8ee5-45bd-9e15-6306f0965574",
     "showTitle": false,
     "tableResultSettingsMap": {},
     "title": ""
    }
   },
   "outputs": [
    {
     "output_type": "stream",
     "name": "stdout",
     "output_type": "stream",
     "text": [
      "+--------------------+--------------------+--------------------+--------------------+-------+------+-------------------+-------------------+-------------------+-------------+---------------+--------------+--------------------+-----------------+-----------------+-----------------+----------------------------+-------------------------------+----------------------------+----------------------------+--------------------+-------------+----------------+---------------+---------------+\n|   NOME_DEPARTAMENTO|      NOME_SECCIONAL|      NOME_DELEGACIA|              CIDADE| NUM_BO|ANO_BO|DATA_COMUNICACAO_BO| DATA_OCORRENCIA_BO| HORA_OCORRENCIA_BO|DESCR_PERIODO|DESCR_TIPOLOCAL|        BAIRRO|          LOGRADOURO|NUMERO_LOGRADOURO|         LATITUDE|        LONGITUDE|NOME_DELEGACIA_CIRCUNSCRIÇÃO|NOME_DEPARTAMENTO_CIRCUNSCRIÇÃO|NOME_SECCIONAL_CIRCUNSCRIÇÃO|NOME_MUNICIPIO_CIRCUNSCRIÇÃO|             RUBRICA|DESCR_CONDUTA|NATUREZA_APURADA|MES_ESTATISTICA|ANO_ESTATISTICA|\n+--------------------+--------------------+--------------------+--------------------+-------+------+-------------------+-------------------+-------------------+-------------+---------------+--------------+--------------------+-----------------+-----------------+-----------------+----------------------------+-------------------------------+----------------------------+----------------------------+--------------------+-------------+----------------+---------------+---------------+\n|DIPOL - DEPTO DE ...|DELEGACIA ELETRON...|DELEGACIA ELETRON...|S.PAULO          ...|1050626|  2022|2022-05-10 00:00:00|2022-05-10 00:00:00|               null|         null|    Via Pública|CAMPOS ELÍSEOS|ALAMEDA BARÃO DE ...|             4568|             null|             null|        77º D.P. SANTA CE...|                          DECAP|           DEL.SEC.1º CENTRO|                     S.PAULO|    Furto (art. 155)|       OUTROS|  FURTO - OUTROS|              5|           2022|\n|DIPOL - DEPTO DE ...|DELEGACIA ELETRON...|DELEGACIA ELETRON...|S.PAULO          ...|1137037|  2022|2022-05-20 00:00:00|2022-05-13 00:00:00|               null|         null|    Via Pública| SANTA CECILIA|    RUA ADOLFO GORDO|              231|      -23.5326628|       -46.650564|        77º D.P. SANTA CE...|                          DECAP|           DEL.SEC.1º CENTRO|                     S.PAULO|    Furto (art. 155)|       OUTROS|  FURTO - OUTROS|              5|           2022|\n|DIPOL - DEPTO DE ...|DELEGACIA ELETRON...|DELEGACIA ELETRON...|S.PAULO          ...|1029344|  2022|2022-05-08 00:00:00|2022-05-08 00:00:00|2025-04-11 03:20:00|         null|    Via Pública| SANTA CECILIA|    AVENIDA SAO JOAO|             1459|-23.5380010387727|-46.6480060082954|        77º D.P. SANTA CE...|                          DECAP|           DEL.SEC.1º CENTRO|                     S.PAULO|    Roubo (art. 157)|       OUTROS|  ROUBO - OUTROS|              5|           2022|\n|DIPOL - DEPTO DE ...|DELEGACIA ELETRON...|DELEGACIA ELETRON...|S.PAULO          ...|1123995|  2022|2022-05-19 00:00:00|2022-05-15 00:00:00|               null|         null|    Via Pública|    BELA VISTA|AVENIDA NOVE DE J...|              485|      -23.5619567|      -46.6558793|            78º D.P. JARDINS|                          DECAP|           DEL.SEC.1º CENTRO|                     S.PAULO|    Furto (art. 155)|       OUTROS|  FURTO - OUTROS|              5|           2022|\n|DIPOL - DEPTO DE ...|DELEGACIA ELETRON...|DELEGACIA ELETRON...|S.PAULO          ...|1047535|  2022|2022-05-10 00:00:00|2022-05-09 00:00:00|2025-04-11 11:00:00|         null|    Via pública|         SAUDE|        RUA CARAMURU|              417|-23.6079371606995|-46.6370549625951|        16º D.P. VILA CLE...|                          DECAP|              DEL.SEC.2º SUL|                     S.PAULO|Furto qualificado...|       OUTROS|  FURTO - OUTROS|              5|           2022|\n+--------------------+--------------------+--------------------+--------------------+-------+------+-------------------+-------------------+-------------------+-------------+---------------+--------------+--------------------+-----------------+-----------------+-----------------+----------------------------+-------------------------------+----------------------------+----------------------------+--------------------+-------------+----------------+---------------+---------------+\nonly showing top 5 rows\n\n"
     ]
    }
   ],
   "source": [
    "# Remover registros com valores nulos nas colunas importantes\n",
    "df_clean = df_union.filter(\n",
    "    (col(\"NATUREZA_APURADA\").isNotNull()) &\n",
    "    (col(\"NOME_MUNICIPIO_CIRCUNSCRI\\u00c7\\u00c3O\").isNotNull())\n",
    ")\n",
    "\n",
    "# Aplicar amostragem aleatória global (0,1% dos registros)\n",
    "df_amostra = df_clean.sample(withReplacement=False, fraction=0.001, seed=42)\n",
    "\n",
    "# Visualizar os dados amostrados\n",
    "df_amostra.show(5)"
   ]
  },
  {
   "cell_type": "markdown",
   "metadata": {
    "application/vnd.databricks.v1+cell": {
     "cellMetadata": {},
     "inputWidgets": {},
     "nuid": "24e2f34d-3d9a-4e74-ada2-b4d4f0d6e6b2",
     "showTitle": false,
     "tableResultSettingsMap": {},
     "title": ""
    }
   },
   "source": [
    "Checando a representatividade da amostra."
   ]
  },
  {
   "cell_type": "code",
   "execution_count": 0,
   "metadata": {
    "application/vnd.databricks.v1+cell": {
     "cellMetadata": {
      "byteLimit": 2048000,
      "rowLimit": 10000
     },
     "inputWidgets": {},
     "nuid": "9e411a01-85e2-47d2-a402-dde10a60e8f8",
     "showTitle": false,
     "tableResultSettingsMap": {},
     "title": ""
    }
   },
   "outputs": [
    {
     "output_type": "stream",
     "name": "stdout",
     "output_type": "stream",
     "text": [
      "Comparativo por NATUREZA_APURADA\n+-----------------------------------------------+-------+--------+-----------+------------+\n|NATUREZA_APURADA                               |qtd_pop|perc_pop|qtd_amostra|perc_amostra|\n+-----------------------------------------------+-------+--------+-----------+------------+\n|FURTO - OUTROS                                 |1693081|46.62   |1653       |45.09       |\n|ROUBO - OUTROS                                 |647544 |17.83   |662        |18.06       |\n|LESÃO CORPORAL DOLOSA                          |432580 |11.91   |441        |12.03       |\n|FURTO DE VEÍCULO                               |284900 |7.84    |299        |8.16        |\n|LESÃO CORPORAL CULPOSA POR ACIDENTE DE TRÂNSITO|203782 |5.61    |236        |6.44        |\n|ROUBO DE VEÍCULO                               |110883 |3.05    |112        |3.06        |\n|TRÁFICO DE ENTORPECENTES                       |73535  |2.02    |85         |2.32        |\n|TRAFICO DE ENTORPECENTES                       |33682  |0.93    |40         |1.09        |\n|ESTUPRO DE VULNERÁVEL                          |32578  |0.9     |35         |0.95        |\n|PORTE DE ENTORPECENTES                         |27953  |0.77    |28         |0.76        |\n|ROUBO DE CARGA                                 |17105  |0.47    |14         |0.38        |\n|APREENSÃO DE ENTORPECENTES                     |11008  |0.3     |11         |0.3         |\n|PORTE DE ARMA                                  |10955  |0.3     |13         |0.35        |\n|ESTUPRO                                        |9752   |0.27    |7          |0.19        |\n|HOMICÍDIO CULPOSO POR ACIDENTE DE TRÂNSITO     |7999   |0.22    |7          |0.19        |\n|HOMICÍDIO DOLOSO                               |7982   |0.22    |8          |0.22        |\n|TENTATIVA DE HOMICÍDIO                         |7187   |0.2     |2          |0.05        |\n|LESÃO CORPORAL CULPOSA - OUTRAS                |5883   |0.16    |3          |0.08        |\n|TENTATIVA DE HOMICIDIO                         |3499   |0.1     |3          |0.08        |\n|HOMICIDIO CULPOSO POR ACIDENTE DE TRANSITO     |3391   |0.09    |1          |0.03        |\n+-----------------------------------------------+-------+--------+-----------+------------+\nonly showing top 20 rows\n\nComparativo por MUNICÍPIO\n+-------------------+-------+--------+-----------+------------+\n|MUNICIPIO          |qtd_pop|perc_pop|qtd_amostra|perc_amostra|\n+-------------------+-------+--------+-----------+------------+\n|S.PAULO            |1465692|40.36   |1444       |39.39       |\n|CAMPINAS           |106059 |2.92    |114        |3.11        |\n|GUARULHOS          |93635  |2.58    |114        |3.11        |\n|S.ANDRE            |75893  |2.09    |59         |1.61        |\n|S.BERNARDO DO CAMPO|63605  |1.75    |59         |1.61        |\n|OSASCO             |59579  |1.64    |55         |1.5         |\n|RIBEIRAO PRETO     |54044  |1.49    |49         |1.34        |\n|SOROCABA           |48519  |1.34    |54         |1.47        |\n|S.JOSE DO RIO PRETO|41585  |1.15    |48         |1.31        |\n|PRAIA GRANDE       |38817  |1.07    |36         |0.98        |\n|S.JOSE DOS CAMPOS  |35555  |0.98    |36         |0.98        |\n|SANTOS             |35557  |0.98    |44         |1.2         |\n|DIADEMA            |34423  |0.95    |43         |1.17        |\n|MAUA               |29141  |0.8     |22         |0.6         |\n|S.VICENTE          |28940  |0.8     |28         |0.76        |\n|BAURU              |27519  |0.76    |28         |0.76        |\n|MOGI DAS CRUZES    |27447  |0.76    |32         |0.87        |\n|CARAPICUIBA        |26691  |0.73    |34         |0.93        |\n|ITAQUAQUECETUBA    |26612  |0.73    |28         |0.76        |\n|JUNDIAI            |26285  |0.72    |25         |0.68        |\n+-------------------+-------+--------+-----------+------------+\nonly showing top 20 rows\n\n"
     ]
    }
   ],
   "source": [
    "# Calcular totais\n",
    "total_pop = df_clean.count()\n",
    "total_amostra = df_amostra.count()\n",
    "\n",
    "# Distribuição por NATUREZA_APURADA\n",
    "dist_pop_natureza = df_clean.groupBy(\"NATUREZA_APURADA\") \\\n",
    "    .agg(count(\"*\").alias(\"qtd_pop\")) \\\n",
    "    .withColumn(\"perc_pop\", round(col(\"qtd_pop\") / total_pop * 100, 2))\n",
    "\n",
    "dist_amostra_natureza = df_amostra.groupBy(\"NATUREZA_APURADA\") \\\n",
    "    .agg(count(\"*\").alias(\"qtd_amostra\")) \\\n",
    "    .withColumn(\"perc_amostra\", round(col(\"qtd_amostra\") / total_amostra * 100, 2))\n",
    "\n",
    "# Distribuição por MUNICÍPIO (com escape de caracteres especiais)\n",
    "col_municipio = \"NOME_MUNICIPIO_CIRCUNSCRI\\u00C7\\u00C3O\"\n",
    "\n",
    "dist_pop_cidade = df_clean.groupBy(col(col_municipio)) \\\n",
    "    .agg(count(\"*\").alias(\"qtd_pop\")) \\\n",
    "    .withColumn(\"perc_pop\", round(col(\"qtd_pop\") / total_pop * 100, 2)) \\\n",
    "    .withColumnRenamed(col_municipio, \"MUNICIPIO\")\n",
    "\n",
    "dist_amostra_cidade = df_amostra.groupBy(col(col_municipio)) \\\n",
    "    .agg(count(\"*\").alias(\"qtd_amostra\")) \\\n",
    "    .withColumn(\"perc_amostra\", round(col(\"qtd_amostra\") / total_amostra * 100, 2)) \\\n",
    "    .withColumnRenamed(col_municipio, \"MUNICIPIO\")\n",
    "\n",
    "# Comparando distribuições\n",
    "comparativo_natureza = dist_pop_natureza.join(\n",
    "    dist_amostra_natureza,\n",
    "    on=\"NATUREZA_APURADA\",\n",
    "    how=\"outer\"\n",
    ").fillna(0).orderBy(col(\"perc_pop\").desc())\n",
    "\n",
    "print(\"Comparativo por NATUREZA_APURADA\")\n",
    "comparativo_natureza.show(truncate=False)\n",
    "\n",
    "comparativo_cidade = dist_pop_cidade.join(\n",
    "    dist_amostra_cidade,\n",
    "    on=\"MUNICIPIO\",\n",
    "    how=\"outer\"\n",
    ").fillna(0).orderBy(col(\"perc_pop\").desc())\n",
    "\n",
    "print(\"Comparativo por MUNICÍPIO\")\n",
    "comparativo_cidade.show(truncate=False)\n"
   ]
  },
  {
   "cell_type": "markdown",
   "metadata": {
    "application/vnd.databricks.v1+cell": {
     "cellMetadata": {},
     "inputWidgets": {},
     "nuid": "6e6c8a28-4421-46e9-9b30-3e5bbb6ddb43",
     "showTitle": false,
     "tableResultSettingsMap": {},
     "title": ""
    }
   },
   "source": [
    "Como pudemos ver, a amostra está representativa e, por isso, vamos poder usar essa amostra para testar as análises antes de realizar no banco inteiro."
   ]
  },
  {
   "cell_type": "code",
   "execution_count": 0,
   "metadata": {
    "application/vnd.databricks.v1+cell": {
     "cellMetadata": {
      "byteLimit": 2048000,
      "rowLimit": 10000
     },
     "inputWidgets": {},
     "nuid": "65c19adc-857b-4a22-b472-d577074218bd",
     "showTitle": false,
     "tableResultSettingsMap": {},
     "title": ""
    }
   },
   "outputs": [
    {
     "output_type": "stream",
     "name": "stdout",
     "output_type": "stream",
     "text": [
      "Amostra representativa salva com sucesso em: /FileStore/mvp_criminalidade_sp/bronze/amostra_representativa.parquet\n"
     ]
    }
   ],
   "source": [
    "# não vou rodar essa célula novamente para não substituir o arquivo sem necessidade\n",
    "# salvando a amostra\n",
    "caminho_amostra = \"/FileStore/mvp_criminalidade_sp/bronze/amostra_representativa.parquet\"\n",
    "\n",
    "# salvando a amostra como Parquet\n",
    "df_amostra.write.mode(\"overwrite\").parquet(caminho_amostra)\n",
    "\n",
    "print(f\"Amostra representativa salva com sucesso em: {caminho_amostra}\")\n"
   ]
  },
  {
   "cell_type": "markdown",
   "metadata": {
    "application/vnd.databricks.v1+cell": {
     "cellMetadata": {},
     "inputWidgets": {},
     "nuid": "0cb69219-87d2-49fa-b7a0-73b3b5a41af1",
     "showTitle": false,
     "tableResultSettingsMap": {},
     "title": ""
    }
   },
   "source": [
    "## 3. Coletando dados complementares\n",
    "Por fim, vamos coletar a base do IBGE, que também está no repositório público no GitHub."
   ]
  },
  {
   "cell_type": "code",
   "execution_count": 0,
   "metadata": {
    "application/vnd.databricks.v1+cell": {
     "cellMetadata": {
      "byteLimit": 2048000,
      "rowLimit": 10000
     },
     "inputWidgets": {},
     "nuid": "826a07b9-2865-439a-b3a0-41ae1cd01c66",
     "showTitle": false,
     "tableResultSettingsMap": {},
     "title": ""
    }
   },
   "outputs": [
    {
     "output_type": "stream",
     "name": "stdout",
     "output_type": "stream",
     "text": [
      "Arquivo IBGE carregado com sucesso.\n"
     ]
    }
   ],
   "source": [
    "# URL direta do arquivo no GitHub\n",
    "url_ibge = \"https://raw.githubusercontent.com/nathpignaton/mvp_criminalidade_sp/main/dados/bronze/ibge_sp.csv\"\n",
    "\n",
    "# Caminhos locais\n",
    "local_tmp_path = \"/tmp/ibge_estado_sp.csv\"\n",
    "dbfs_path = \"dbfs:/FileStore/mvp_criminalidade_sp/bronze/ibge_sp.csv\"\n",
    "\n",
    "# Download + cópia pro DBFS\n",
    "try:\n",
    "    urllib.request.urlretrieve(url_ibge, local_tmp_path)\n",
    "    dbutils.fs.cp(f\"file:{local_tmp_path}\", dbfs_path)\n",
    "    print(\"Arquivo IBGE carregado com sucesso.\")\n",
    "except Exception as e:\n",
    "    print(f\"Erro ao baixar arquivo IBGE: {e}\")\n"
   ]
  }
 ],
 "metadata": {
  "application/vnd.databricks.v1+notebook": {
   "computePreferences": null,
   "dashboards": [],
   "environmentMetadata": {
    "base_environment": "",
    "environment_version": "1"
   },
   "inputWidgetPreferences": null,
   "language": "python",
   "notebookMetadata": {
    "pythonIndentUnit": 4
   },
   "notebookName": "01_ingestao_bronze",
   "widgets": {}
  }
 },
 "nbformat": 4,
 "nbformat_minor": 0
}