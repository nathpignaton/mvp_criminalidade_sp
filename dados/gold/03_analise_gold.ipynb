{
 "cells": [
  {
   "cell_type": "markdown",
   "metadata": {
    "application/vnd.databricks.v1+cell": {
     "cellMetadata": {},
     "inputWidgets": {},
     "nuid": "38b5242f-e668-4035-a514-af0f6d9e3306",
     "showTitle": false,
     "tableResultSettingsMap": {},
     "title": ""
    }
   },
   "source": [
    "# Notebook: 03_analise_gold\n",
    "\n",
    "O objetivo deste notebook é consolidar os dados tratados da camada Silver e gerar indicadores relevantes sobre a criminalidade no Estado de São Paulo, com foco em frequência de crimes, comparações temporais, distribuição geográfica e taxa de criminalidade ajustada por população.\n",
    "\n",
    "#### **1. Definição do Problema**\n",
    "\n",
    "- O projeto visa analisar a **frequência, geolocalização e tipos de crimes cometidos no Estado de São Paulo, ao longo de três anos**.\n",
    "- O **usuário final** será a **população interessada na criminalidade** ou a **Polícia Civil do Estado de São Paulo**.\n",
    "\n",
    "\n",
    "#### **2. Fonte de Dados**\n",
    "\n",
    "- **Base de dados principal:** Boletins de ocorrência da **SSP-SP** (Secretaria de Segurança Pública de SP), disponibilizados diariamente.\n",
    "- **Dados complementares:** Base de dados demográficos do estado de São Paulo do **IBGE**.\n",
    "\n",
    "\n",
    "#### **3. Formato dos Dados**\n",
    "\n",
    "- Os dados estão **em formato CSV**.\n",
    "- Estruturados, prontos para processamento.\n",
    "\n",
    "#### **4. Histórico e Frequência dos Dados**\n",
    "\n",
    "- O dataset cobre um **histórico amplo**, contendo informações de **janeiro 2022 até dezembro de 2024**.\n",
    "- A análise será baseada em **dados mensais**.\n",
    "\n",
    "#### Perguntas Objetivo\n",
    "O trabalho tem a função de responder as perguntas abaixo, separadas em duas partes.\n",
    "\n",
    "Perguntas relacionadas aos registros em todo o estado de São Paulo:\n",
    "\n",
    "- Quais as 5 categorias de crime mais registrados no Estado?\n",
    "- Esses 5 permaneceram os mesmos em 2022, 2023 e 2024?\n",
    "- Houve sazonalidade? Com naturezas mais registradas ou menos registradas em determinadas épocas do ano? Ou eventos de aumento ou redução drásticas de determinados registros?\n",
    "- Qual a distribuição geográfica das categorias de crime dentro do estado de São Paulo?\n",
    "\n",
    "Perguntas relacionadas à distribuição dos tipos ou categorias de crime nos diferentes municípios do estado:\n",
    "\n",
    "- Qual o percentual de registro de cada tipo de crime nos anos de 2022, 2023 e 2024 em cada município de São Paulo?\n",
    "- Qual a distribuição geográfica das categorias de crime dentro de cada município?\n",
    "- Qual a taxa de registro a cada 100 mil habitantes das 3 maiores categorias de crime de cada município?"
   ]
  },
  {
   "cell_type": "markdown",
   "metadata": {
    "application/vnd.databricks.v1+cell": {
     "cellMetadata": {},
     "inputWidgets": {},
     "nuid": "92b89568-1e02-488f-871e-5819f3ad2432",
     "showTitle": false,
     "tableResultSettingsMap": {},
     "title": ""
    }
   },
   "source": [
    "## 1. Setup Inicial"
   ]
  },
  {
   "cell_type": "code",
   "execution_count": 0,
   "metadata": {
    "application/vnd.databricks.v1+cell": {
     "cellMetadata": {
      "byteLimit": 2048000,
      "rowLimit": 10000
     },
     "inputWidgets": {},
     "nuid": "2f132c5d-7a47-43c8-90db-db465c5129b7",
     "showTitle": false,
     "tableResultSettingsMap": {},
     "title": ""
    }
   },
   "outputs": [],
   "source": [
    "# imports essenciais do pyskpark - separado para o Databricks não esquecer\n",
    "from pyspark.sql import SparkSession"
   ]
  },
  {
   "cell_type": "code",
   "execution_count": 0,
   "metadata": {
    "application/vnd.databricks.v1+cell": {
     "cellMetadata": {
      "byteLimit": 2048000,
      "rowLimit": 10000
     },
     "inputWidgets": {},
     "nuid": "ac7084a6-5fd7-4915-a5b9-376c9bb25fa0",
     "showTitle": false,
     "tableResultSettingsMap": {},
     "title": ""
    }
   },
   "outputs": [],
   "source": [
    "from pyspark.sql.functions import desc, sum, lit, round, when"
   ]
  },
  {
   "cell_type": "code",
   "execution_count": 0,
   "metadata": {
    "application/vnd.databricks.v1+cell": {
     "cellMetadata": {
      "byteLimit": 2048000,
      "rowLimit": 10000
     },
     "inputWidgets": {},
     "nuid": "2c6ae44d-e86c-4d5a-be00-7d4e8b949901",
     "showTitle": false,
     "tableResultSettingsMap": {},
     "title": ""
    }
   },
   "outputs": [],
   "source": [
    "from pyspark.sql.window import Window\n",
    "from pyspark.sql.functions import row_number, col, count"
   ]
  },
  {
   "cell_type": "code",
   "execution_count": 0,
   "metadata": {
    "application/vnd.databricks.v1+cell": {
     "cellMetadata": {
      "byteLimit": 2048000,
      "rowLimit": 10000
     },
     "inputWidgets": {},
     "nuid": "5d06aee4-044f-4b9f-a892-045673f8e75e",
     "showTitle": false,
     "tableResultSettingsMap": {},
     "title": ""
    }
   },
   "outputs": [],
   "source": [
    "from pyspark.sql.types import IntegerType, FloatType\n",
    "from functools import reduce\n",
    "from pyspark.sql import DataFrame"
   ]
  },
  {
   "cell_type": "code",
   "execution_count": 0,
   "metadata": {
    "application/vnd.databricks.v1+cell": {
     "cellMetadata": {
      "byteLimit": 2048000,
      "rowLimit": 10000
     },
     "inputWidgets": {},
     "nuid": "3db348ec-e8b2-4773-9cf8-748c284a2cca",
     "showTitle": false,
     "tableResultSettingsMap": {},
     "title": ""
    }
   },
   "outputs": [],
   "source": [
    "%python\n",
    "import pandas as pd\n",
    "import seaborn as sns\n",
    "import matplotlib.pyplot as plt\n",
    "import matplotlib as mpl"
   ]
  },
  {
   "cell_type": "code",
   "execution_count": 0,
   "metadata": {
    "application/vnd.databricks.v1+cell": {
     "cellMetadata": {
      "byteLimit": 2048000,
      "rowLimit": 10000
     },
     "inputWidgets": {},
     "nuid": "3a38fda1-e8f8-4f66-bd05-efe32be5862d",
     "showTitle": false,
     "tableResultSettingsMap": {},
     "title": ""
    }
   },
   "outputs": [],
   "source": [
    "%matplotlib inline"
   ]
  },
  {
   "cell_type": "code",
   "execution_count": 0,
   "metadata": {
    "application/vnd.databricks.v1+cell": {
     "cellMetadata": {
      "byteLimit": 2048000,
      "rowLimit": 10000
     },
     "inputWidgets": {},
     "nuid": "05e1589e-422c-4de1-92b6-15f44a374cc3",
     "showTitle": false,
     "tableResultSettingsMap": {},
     "title": ""
    }
   },
   "outputs": [],
   "source": [
    "# definindo estilo para os próximos gráficos\n",
    "sns.set_theme(\n",
    "    style=\"whitegrid\",\n",
    "    rc={\n",
    "        \"axes.grid\": True,\n",
    "        \"grid.color\": \"#e6e6e6\",  # cinza bem claro\n",
    "        \"grid.linewidth\": 0.7\n",
    "    }\n",
    ")"
   ]
  },
  {
   "cell_type": "code",
   "execution_count": 0,
   "metadata": {
    "application/vnd.databricks.v1+cell": {
     "cellMetadata": {
      "byteLimit": 2048000,
      "rowLimit": 10000
     },
     "inputWidgets": {},
     "nuid": "c0c32553-5833-4ce7-bbb3-a0bda7f28cb1",
     "showTitle": false,
     "tableResultSettingsMap": {},
     "title": ""
    }
   },
   "outputs": [],
   "source": [
    "# criando a sessão\n",
    "spark = SparkSession.builder.getOrCreate()"
   ]
  },
  {
   "cell_type": "markdown",
   "metadata": {
    "application/vnd.databricks.v1+cell": {
     "cellMetadata": {},
     "inputWidgets": {},
     "nuid": "6154e239-9a38-4f8e-b82f-c0ed3026184f",
     "showTitle": false,
     "tableResultSettingsMap": {},
     "title": ""
    }
   },
   "source": [
    "## 2. Importando os dados Silver"
   ]
  },
  {
   "cell_type": "code",
   "execution_count": 0,
   "metadata": {
    "application/vnd.databricks.v1+cell": {
     "cellMetadata": {
      "byteLimit": 2048000,
      "rowLimit": 10000
     },
     "inputWidgets": {},
     "nuid": "10fd9a2a-4b70-4e4a-83ac-eeaa114f9254",
     "showTitle": false,
     "tableResultSettingsMap": {},
     "title": ""
    }
   },
   "outputs": [],
   "source": [
    "# lendo os dados de criminalidade ano a ano\n",
    "df_2022 = spark.read.parquet(\"/FileStore/mvp_criminalidade_sp/silver/ano=2022\").withColumn(\"ano\", lit(2022))\n",
    "df_2023 = spark.read.parquet(\"/FileStore/mvp_criminalidade_sp/silver/ano=2023\").withColumn(\"ano\", lit(2023))\n",
    "df_2024 = spark.read.parquet(\"/FileStore/mvp_criminalidade_sp/silver/ano=2024\").withColumn(\"ano\", lit(2024))\n",
    "\n",
    "# unindo os anos\n",
    "df_silver = reduce(DataFrame.unionByName, [df_2022, df_2023, df_2024])\n",
    "\n",
    "df_silver.printSchema()"
   ]
  },
  {
   "cell_type": "code",
   "execution_count": 0,
   "metadata": {
    "application/vnd.databricks.v1+cell": {
     "cellMetadata": {
      "byteLimit": 2048000,
      "rowLimit": 10000
     },
     "inputWidgets": {},
     "nuid": "261d46f9-9343-4b2a-b743-f27a201483cc",
     "showTitle": false,
     "tableResultSettingsMap": {},
     "title": ""
    }
   },
   "outputs": [],
   "source": [
    "# lendo os arquivos do ibge\n",
    "df_ibge = spark.read.parquet(\"/FileStore/mvp_criminalidade_sp/silver/ibge\")\n",
    "\n",
    "df_ibge.printSchema()"
   ]
  },
  {
   "cell_type": "markdown",
   "metadata": {
    "application/vnd.databricks.v1+cell": {
     "cellMetadata": {},
     "inputWidgets": {},
     "nuid": "ca9c2e82-9525-400d-96ee-43e86cadfee6",
     "showTitle": false,
     "tableResultSettingsMap": {},
     "title": ""
    }
   },
   "source": [
    "## 3. Preparando os dados para análise\n",
    "Criação de colunas e união dos databases"
   ]
  },
  {
   "cell_type": "markdown",
   "metadata": {
    "application/vnd.databricks.v1+cell": {
     "cellMetadata": {},
     "inputWidgets": {},
     "nuid": "44c932c5-0d5d-479b-b43d-668538d0f576",
     "showTitle": false,
     "tableResultSettingsMap": {},
     "title": ""
    }
   },
   "source": [
    "### 3.1 Calculando a população para 2023\n",
    "Vamos criar uma coluna nova importante, a coluna `taxa_100_mil`, que é correspondente à taxa de registros de crimes a cada 100 mil pessoas, para isso precisamos estimar a população do ano de 2023. Para essa estimativa vamos calcular a média entre a população do censo de 2022 e a população estimada de 2024 (talvez não seja a melhor abordagem, mas por enquanto vamos com ela)."
   ]
  },
  {
   "cell_type": "code",
   "execution_count": 0,
   "metadata": {
    "application/vnd.databricks.v1+cell": {
     "cellMetadata": {
      "byteLimit": 2048000,
      "rowLimit": 10000
     },
     "inputWidgets": {},
     "nuid": "fbc660e3-66a3-4732-b61d-e04c3cda6536",
     "showTitle": false,
     "tableResultSettingsMap": {},
     "title": ""
    }
   },
   "outputs": [],
   "source": [
    "# calculando a média\n",
    "df_ibge = (\n",
    "    df_ibge\n",
    "    .withColumn(\"pop_2023\", round((col(\"pop_censo_22\") + col(\"pop_estimada_24\")) / 2))\n",
    ")\n",
    "\n",
    "# checando o resultado\n",
    "df_ibge.select(\"municipio\", \"pop_censo_22\", \"pop_estimada_24\", \"pop_2023\").show(10, truncate=False)"
   ]
  },
  {
   "cell_type": "markdown",
   "metadata": {
    "application/vnd.databricks.v1+cell": {
     "cellMetadata": {},
     "inputWidgets": {},
     "nuid": "b14c911c-ac00-4179-a918-9af17dbde925",
     "showTitle": false,
     "tableResultSettingsMap": {},
     "title": ""
    }
   },
   "source": [
    "### 3.3 Criando as bases definitivas `df_bo` e `df_municipios` (com as taxas de registro de criminalidade)\n",
    "As duas bases tratam de informações completamente diferentes, por isso vamos unificar todos os dados que tratam do boletim de ocorrência na df_bos e a df_municipios concentra todas as informações por município. Nela vamos concentrar o cálculo da taxa de registro de crimes nas três divisões que temos:\n",
    "\n",
    "- `natureza` - que é literalmente a Natureza Apurada do boletim, a informação mais específica\n",
    "- `categoria` - que é baseado no agrupamento que eu criei, com crimes \"similares\"\n",
    "- `tipo_crime` - que é de acordo com o agrupamento do Código Penal Brasileiro"
   ]
  },
  {
   "cell_type": "code",
   "execution_count": 0,
   "metadata": {
    "application/vnd.databricks.v1+cell": {
     "cellMetadata": {
      "byteLimit": 2048000,
      "rowLimit": 10000
     },
     "inputWidgets": {},
     "nuid": "45afba62-3e8a-4db8-a0d7-98429abc1e0f",
     "showTitle": false,
     "tableResultSettingsMap": {},
     "title": ""
    }
   },
   "outputs": [],
   "source": [
    "df_qtd_bos = (\n",
    "    df_silver\n",
    "    .groupBy(\"ano\", \"municipio\")\n",
    "    .agg(count(\"*\").alias(\"qtd_bos\"))\n",
    ")"
   ]
  },
  {
   "cell_type": "code",
   "execution_count": 0,
   "metadata": {
    "application/vnd.databricks.v1+cell": {
     "cellMetadata": {
      "byteLimit": 2048000,
      "rowLimit": 10000
     },
     "inputWidgets": {},
     "nuid": "883c2600-8a1f-46e6-aa50-32e03d6895bc",
     "showTitle": false,
     "tableResultSettingsMap": {},
     "title": ""
    }
   },
   "outputs": [],
   "source": [
    "df_pop = df_ibge.select(\n",
    "    \"municipio\",\n",
    "    \"codigo_ibge\",\n",
    "    col(\"pop_censo_22\").alias(\"populacao_22\"),\n",
    "    col(\"pop_2023\").alias(\"populacao_23\"),\n",
    "    col(\"pop_estimada_24\").alias(\"populacao_24\")\n",
    ")"
   ]
  },
  {
   "cell_type": "code",
   "execution_count": 0,
   "metadata": {
    "application/vnd.databricks.v1+cell": {
     "cellMetadata": {
      "byteLimit": 2048000,
      "rowLimit": 10000
     },
     "inputWidgets": {},
     "nuid": "9af0eccb-8ceb-4f9b-9295-40b314fd600a",
     "showTitle": false,
     "tableResultSettingsMap": {},
     "title": ""
    }
   },
   "outputs": [],
   "source": [
    "df_municipio_temp = df_qtd_bos.join(\n",
    "    df_pop,\n",
    "    on=[\"municipio\"],\n",
    "    how=\"left\"\n",
    ")"
   ]
  },
  {
   "cell_type": "code",
   "execution_count": 0,
   "metadata": {
    "application/vnd.databricks.v1+cell": {
     "cellMetadata": {
      "byteLimit": 2048000,
      "rowLimit": 10000
     },
     "inputWidgets": {},
     "nuid": "06cee594-df7a-44d3-8f11-4c893fad62b5",
     "showTitle": false,
     "tableResultSettingsMap": {},
     "title": ""
    }
   },
   "outputs": [],
   "source": [
    "df_municipio_temp = df_municipio_temp.withColumn(\n",
    "    \"taxa_100k\",\n",
    "    when(col(\"ano\") == 2022, round((col(\"qtd_bos\") / col(\"populacao_22\")) * 100000, 2))\n",
    "    .when(col(\"ano\") == 2023, round((col(\"qtd_bos\") / col(\"populacao_23\")) * 100000, 2))\n",
    "    .when(col(\"ano\") == 2024, round((col(\"qtd_bos\") / col(\"populacao_24\")) * 100000, 2))\n",
    ")"
   ]
  },
  {
   "cell_type": "code",
   "execution_count": 0,
   "metadata": {
    "application/vnd.databricks.v1+cell": {
     "cellMetadata": {
      "byteLimit": 2048000,
      "rowLimit": 10000
     },
     "inputWidgets": {},
     "nuid": "31513a18-f00b-4158-9807-f7e0cec6517c",
     "showTitle": false,
     "tableResultSettingsMap": {},
     "title": ""
    }
   },
   "outputs": [],
   "source": [
    "df_taxa_22 = df_municipio_temp.filter(col(\"ano\") == 2022).select(\n",
    "    \"municipio\", \"codigo_ibge\", col(\"taxa_100k\").alias(\"taxa_100k_22\")\n",
    ")\n",
    "\n",
    "df_taxa_23 = df_municipio_temp.filter(col(\"ano\") == 2023).select(\n",
    "    \"municipio\", \"codigo_ibge\", col(\"taxa_100k\").alias(\"taxa_100k_23\")\n",
    ")\n",
    "\n",
    "df_taxa_24 = df_municipio_temp.filter(col(\"ano\") == 2024).select(\n",
    "    \"municipio\", \"codigo_ibge\", col(\"taxa_100k\").alias(\"taxa_100k_24\")\n",
    ")"
   ]
  },
  {
   "cell_type": "code",
   "execution_count": 0,
   "metadata": {
    "application/vnd.databricks.v1+cell": {
     "cellMetadata": {
      "byteLimit": 2048000,
      "rowLimit": 10000
     },
     "inputWidgets": {},
     "nuid": "01e21540-a8a0-4bc6-a2ce-7b9bbe1a26f0",
     "showTitle": false,
     "tableResultSettingsMap": {},
     "title": ""
    }
   },
   "outputs": [],
   "source": [
    "df_municipio = (\n",
    "    df_taxa_22\n",
    "    .join(df_taxa_23, on=[\"municipio\", \"codigo_ibge\"], how=\"outer\")\n",
    "    .join(df_taxa_24, on=[\"municipio\", \"codigo_ibge\"], how=\"outer\")\n",
    ")"
   ]
  },
  {
   "cell_type": "code",
   "execution_count": 0,
   "metadata": {
    "application/vnd.databricks.v1+cell": {
     "cellMetadata": {
      "byteLimit": 2048000,
      "rowLimit": 10000
     },
     "inputWidgets": {},
     "nuid": "ea1a9e1f-f826-494f-a4b9-f9c5071ca7bc",
     "showTitle": false,
     "tableResultSettingsMap": {},
     "title": ""
    }
   },
   "outputs": [],
   "source": [
    "df_municipio.printSchema()"
   ]
  },
  {
   "cell_type": "code",
   "execution_count": 0,
   "metadata": {
    "application/vnd.databricks.v1+cell": {
     "cellMetadata": {
      "byteLimit": 2048000,
      "rowLimit": 10000
     },
     "inputWidgets": {},
     "nuid": "b689e2fb-1d11-411d-ae6f-8f6f7a72c47e",
     "showTitle": false,
     "tableResultSettingsMap": {},
     "title": ""
    }
   },
   "outputs": [],
   "source": [
    "# tirei umas colunas sem querer, vamos juntar de novo\n",
    "df_municipio = df_municipio.join(\n",
    "    df_ibge.select(\n",
    "        \"municipio\",\n",
    "        \"codigo_ibge\",\n",
    "        col(\"pop_censo_22\").alias(\"populacao_22\"),\n",
    "        col(\"pop_2023\").alias(\"populacao_23\"),\n",
    "        col(\"pop_estimada_24\").alias(\"populacao_24\")\n",
    "    ),\n",
    "    on=[\"municipio\", \"codigo_ibge\"],\n",
    "    how=\"left\"\n",
    ")"
   ]
  },
  {
   "cell_type": "code",
   "execution_count": 0,
   "metadata": {
    "application/vnd.databricks.v1+cell": {
     "cellMetadata": {
      "byteLimit": 2048000,
      "rowLimit": 10000
     },
     "inputWidgets": {},
     "nuid": "a859af71-a703-47d6-b046-d80566ca6089",
     "showTitle": false,
     "tableResultSettingsMap": {},
     "title": ""
    }
   },
   "outputs": [],
   "source": [
    "df_municipio.printSchema()"
   ]
  },
  {
   "cell_type": "markdown",
   "metadata": {
    "application/vnd.databricks.v1+cell": {
     "cellMetadata": {},
     "inputWidgets": {},
     "nuid": "5a6cabdf-3d0e-44bc-82d6-c6832ce8245c",
     "showTitle": false,
     "tableResultSettingsMap": {},
     "title": ""
    }
   },
   "source": [
    "Pronto, agora temos as duas bases completinhas para responder todas as perguntas. "
   ]
  },
  {
   "cell_type": "markdown",
   "metadata": {
    "application/vnd.databricks.v1+cell": {
     "cellMetadata": {},
     "inputWidgets": {},
     "nuid": "053a7ee7-8ce7-46e9-af9b-0573e713fe31",
     "showTitle": false,
     "tableResultSettingsMap": {},
     "title": ""
    }
   },
   "source": [
    "## 4. Respondendo as Perguntas Objetivo\n",
    "Vamos uma por uma, por mais que algumas vão ser respondidas fora daqui, com outro recurso."
   ]
  },
  {
   "cell_type": "markdown",
   "metadata": {
    "application/vnd.databricks.v1+cell": {
     "cellMetadata": {},
     "inputWidgets": {},
     "nuid": "b92e528f-7d69-4032-85e1-9a3b118a39e6",
     "showTitle": false,
     "tableResultSettingsMap": {},
     "title": ""
    }
   },
   "source": [
    "### 4.1 Quais as 5 categorias de crime mais registradas no estado de São Paulo?\n",
    "Essa pergunta é baseada na subdivisão `categoria`, por isso vamos calcular com ela."
   ]
  },
  {
   "cell_type": "code",
   "execution_count": 0,
   "metadata": {
    "application/vnd.databricks.v1+cell": {
     "cellMetadata": {
      "byteLimit": 2048000,
      "rowLimit": 10000
     },
     "inputWidgets": {},
     "nuid": "3999fad4-a90a-4cbf-b1d9-c26b7e365cf4",
     "showTitle": false,
     "tableResultSettingsMap": {},
     "title": ""
    }
   },
   "outputs": [],
   "source": [
    "# calculando as top 5 categorias do estado inteiro.\n",
    "top_categorias = (\n",
    "    df_silver\n",
    "    .groupBy(\"categoria\")\n",
    "    .agg(count(\"*\").alias(\"total_ocorrencias\"))\n",
    "    .orderBy(desc(\"total_ocorrencias\"))\n",
    "    .limit(5)\n",
    ")\n",
    "\n",
    "top_categorias.show(truncate=False)"
   ]
  },
  {
   "cell_type": "markdown",
   "metadata": {
    "application/vnd.databricks.v1+cell": {
     "cellMetadata": {},
     "inputWidgets": {},
     "nuid": "aff8af79-b155-408a-b6cf-bd5ef46a1d60",
     "showTitle": false,
     "tableResultSettingsMap": {},
     "title": ""
    }
   },
   "source": [
    "Como podemos ver, as 5 maiores categorias são `furto`, `roubo`, `lesao corporal`, `entorpecentes` e `estupro`. Sendo a diferença entre a primeira e a segunda de **1,9 milhão** de registros para **776 mil**, quase **3 vezes maior**. Já a distância entre a **primeira e a quinta categoria** é de **1,9 milhão** para **42 mil**, **45 vezes maior**.\n",
    "A próxima pergunta vai trazer clareza se essa é uma tendência que se repete ao longo dos anos."
   ]
  },
  {
   "cell_type": "markdown",
   "metadata": {
    "application/vnd.databricks.v1+cell": {
     "cellMetadata": {},
     "inputWidgets": {},
     "nuid": "3fd1bf1e-0cf7-42b2-8e0d-3235a8d9614f",
     "showTitle": false,
     "tableResultSettingsMap": {},
     "title": ""
    }
   },
   "source": [
    "### 4.2 Esses 5 permaneceram os mesmos em 2022, 2023 e 2024?\n",
    "Vamos gerar um gráfico de barra por ano lado a lado para comparar o top 5."
   ]
  },
  {
   "cell_type": "code",
   "execution_count": 0,
   "metadata": {
    "application/vnd.databricks.v1+cell": {
     "cellMetadata": {
      "byteLimit": 2048000,
      "rowLimit": 10000
     },
     "inputWidgets": {},
     "nuid": "23828ffe-b0c2-4fff-b861-ecd0348e5cc5",
     "showTitle": false,
     "tableResultSettingsMap": {},
     "title": ""
    }
   },
   "outputs": [],
   "source": [
    "df_top5_22 = df_top5_pd[df_top5_pd[\"ano\"] == 2022].sort_values(\"total_mil\", ascending=False)\n",
    "df_top5_23 = df_top5_pd[df_top5_pd[\"ano\"] == 2023].sort_values(\"total_mil\", ascending=False)\n",
    "df_top5_24 = df_top5_pd[df_top5_pd[\"ano\"] == 2024].sort_values(\"total_mil\", ascending=False)"
   ]
  },
  {
   "cell_type": "code",
   "execution_count": 0,
   "metadata": {
    "application/vnd.databricks.v1+cell": {
     "cellMetadata": {
      "byteLimit": 2048000,
      "rowLimit": 10000
     },
     "inputWidgets": {},
     "nuid": "0c73153e-4f7f-413b-8778-21c396fa7b3c",
     "showTitle": false,
     "tableResultSettingsMap": {},
     "title": ""
    }
   },
   "outputs": [],
   "source": [
    "# criando a paleta das categorias\n",
    "custom_palette = {\n",
    "    \"furto\": \"#A6CEE3\",         # azul pastel\n",
    "    \"roubo\": \"#FDBF6F\",         # laranja pastel\n",
    "    \"lesao corporal\": \"#B2DF8A\",# verde pastel\n",
    "    \"entorpecentes\": \"#FB9A99\", # vermelho rosado pastel\n",
    "    \"estupro\": \"#CAB2D6\"        # lilás pastel\n",
    "}"
   ]
  },
  {
   "cell_type": "code",
   "execution_count": 0,
   "metadata": {
    "application/vnd.databricks.v1+cell": {
     "cellMetadata": {
      "byteLimit": 2048000,
      "rowLimit": 10000
     },
     "inputWidgets": {},
     "nuid": "7c5092da-9098-4419-9665-5efac1535984",
     "showTitle": false,
     "tableResultSettingsMap": {},
     "title": ""
    }
   },
   "outputs": [],
   "source": [
    "fig, axes = plt.subplots(1, 3, figsize=(18, 5), constrained_layout=True)\n",
    "\n",
    "anos = [2022, 2023, 2024]\n",
    "dfs = [df_top5_22, df_top5_23, df_top5_24]\n",
    "\n",
    "for ax, ano, df in zip(axes, anos, dfs):\n",
    "    sns.barplot(\n",
    "        data=df,\n",
    "        x=\"total_mil\",\n",
    "        y=\"categoria\",\n",
    "        palette=custom_palette,\n",
    "        orient=\"h\",\n",
    "        ax=ax\n",
    "    )\n",
    "    \n",
    "    for patch in ax.patches:\n",
    "        width = patch.get_width()\n",
    "        y = patch.get_y() + patch.get_height() / 2\n",
    "        ax.text(\n",
    "            width + 3,\n",
    "            y,\n",
    "            f\"{width:.1f} mil\",\n",
    "            va=\"center\",\n",
    "            ha=\"left\",\n",
    "            fontsize=10,\n",
    "            color=\"black\"\n",
    "        )\n",
    "    \n",
    "    ax.set_title(f\"{ano}\", fontsize=13)\n",
    "    ax.set_xlabel(\"\")\n",
    "    ax.set_ylabel(\"\")\n",
    "    ax.set_xlim(0, 750)\n",
    "    \n",
    "    # Remove bordas laterais\n",
    "    for spine in ax.spines.values():\n",
    "        spine.set_visible(False)\n",
    "\n",
    "# Título geral\n",
    "fig.suptitle(\n",
    "    \"Top 5 Categorias de Crimes mais registrados no estado de São Paulo por ano\",\n",
    "    fontsize=15,\n",
    "    fontweight=\"bold\",\n",
    "    y=1.1\n",
    ")\n",
    "\n",
    "plt.show()"
   ]
  },
  {
   "cell_type": "markdown",
   "metadata": {
    "application/vnd.databricks.v1+cell": {
     "cellMetadata": {},
     "inputWidgets": {},
     "nuid": "e92aca0e-b459-478f-9fe9-6e459e178346",
     "showTitle": false,
     "tableResultSettingsMap": {},
     "title": ""
    }
   },
   "source": [
    "Podemos observar no gráfico que o ano de 2024 teve uma mudança no ranking, com a categoria de Lesão Corporal ultrapassando o Roubo. Ela já havia crescido de 2022 para 2023, como Lesão Corporal contém crimes de natureza bem violenta, podemos criar a hipótese que a violência no estado de São Paulo pode ter aumentado ou, de maneira mais realista, que essa categoria de crime violento foi mais reportada.\n",
    "\n",
    "Agora vamos ver as flutuações no mês."
   ]
  },
  {
   "cell_type": "markdown",
   "metadata": {
    "application/vnd.databricks.v1+cell": {
     "cellMetadata": {},
     "inputWidgets": {},
     "nuid": "2e682d0e-887a-427d-a5c5-0c2a03ea548a",
     "showTitle": false,
     "tableResultSettingsMap": {},
     "title": ""
    }
   },
   "source": [
    "### 4.3 Há sazonalidade nos registros? Com naturezas mais registradas ou menos registradas em determinadas épocas do ano? Ou eventos de aumento ou redução drásticas de determinados registros?\n",
    "Vamos plotar alguns gráficos para ver o comportamento ao longo do tempo.\n"
   ]
  },
  {
   "cell_type": "code",
   "execution_count": 0,
   "metadata": {
    "application/vnd.databricks.v1+cell": {
     "cellMetadata": {
      "byteLimit": 2048000,
      "rowLimit": 10000
     },
     "inputWidgets": {},
     "nuid": "fc60495d-6290-4bad-a7c1-71c54b6dcfe1",
     "showTitle": false,
     "tableResultSettingsMap": {},
     "title": ""
    }
   },
   "outputs": [],
   "source": [
    "# agrupando por mes e ano\n",
    "df_mensal = (\n",
    "    df_silver\n",
    "    .groupBy(\"ano\", \"mes\")\n",
    "    .agg(count(\"*\").alias(\"qtd_bos\"))\n",
    "    .orderBy(\"ano\", \"mes\")\n",
    ")"
   ]
  },
  {
   "cell_type": "code",
   "execution_count": 0,
   "metadata": {
    "application/vnd.databricks.v1+cell": {
     "cellMetadata": {
      "byteLimit": 2048000,
      "rowLimit": 10000
     },
     "inputWidgets": {},
     "nuid": "327a0e05-dfa2-4eaf-832c-337c796cd66d",
     "showTitle": false,
     "tableResultSettingsMap": {},
     "title": ""
    }
   },
   "outputs": [],
   "source": [
    "# convertendo para pandas\n",
    "df_mensal_pd = df_mensal.toPandas().sort_values([\"ano\", \"mes\"])"
   ]
  },
  {
   "cell_type": "code",
   "execution_count": 0,
   "metadata": {
    "application/vnd.databricks.v1+cell": {
     "cellMetadata": {
      "byteLimit": 2048000,
      "rowLimit": 10000
     },
     "inputWidgets": {},
     "nuid": "b1d4c4bc-2a8c-41bc-bef1-e6cc7f75bd00",
     "showTitle": false,
     "tableResultSettingsMap": {},
     "title": ""
    }
   },
   "outputs": [],
   "source": [
    "# montando o gráfico de linhas\n",
    "plt.figure(figsize=(10, 6))\n",
    "\n",
    "sns.lineplot(\n",
    "    data=df_mensal_pd,\n",
    "    x=\"mes\",\n",
    "    y=\"qtd_bos\",\n",
    "    hue=\"ano\",\n",
    "    palette=\"pastel\",\n",
    "    marker=\"o\"\n",
    ")\n",
    "\n",
    "plt.title(\"Ocorrências por Mês no Estado de SP (2022–2024)\", fontsize=13, fontweight=\"bold\")\n",
    "plt.xlabel(\"Mês\")\n",
    "plt.ylabel(\"Quantidade de BOs\")\n",
    "plt.xticks(range(1, 13))  # Garante meses de 1 a 12\n",
    "plt.tight_layout()\n",
    "ax = plt.gca()\n",
    "ax.spines[\"top\"].set_visible(False)\n",
    "ax.spines[\"right\"].set_visible(False)\n",
    "plt.show()"
   ]
  },
  {
   "cell_type": "markdown",
   "metadata": {
    "application/vnd.databricks.v1+cell": {
     "cellMetadata": {},
     "inputWidgets": {},
     "nuid": "c7db6ba0-1525-430f-88bf-5845285739e1",
     "showTitle": false,
     "tableResultSettingsMap": {},
     "title": ""
    }
   },
   "source": [
    "Como podemos observar, houveram tendências interessantes no volume de registro:\n",
    "\n",
    "**Tendências entre os três anos**\n",
    "- Podemos observar uma redução generalizada de registros em fevereiro;\n",
    "- Em abril, julho e outubro a quantidade de registros parece quase constante ao longo dos 3 anos;\n",
    "- 2023 teve mais registros mês a mês que 2022 e 2024 em todos os meses com exceção de abril e dezembro;\n",
    "- Em 2022 houve uma redução drástica no registro de boletins de ocorrência no estado em fevereiro e, logo em seguida, um aumento drástico nos registros, em março;\n",
    "- 2024 teve as menores quantidades nos três anos com exceção de abril e julho;\n",
    "\n",
    "Essas grandes discrepâncias podem ser associadas a períodos de férias, atraso no registro dos crimes (no final de fevereiro pode ser o início do carnaval, mas as pessoas registram os crimes depois que voltam para casa, por exemplo) ou campanhas específicas que estimulem o registro de determinados crimes.\n",
    "\n",
    "É sempre importante tomar muito cuidado ao analisar esses dados e tentar tirar conclusões com eles."
   ]
  },
  {
   "cell_type": "markdown",
   "metadata": {
    "application/vnd.databricks.v1+cell": {
     "cellMetadata": {},
     "inputWidgets": {},
     "nuid": "79ddc2f7-6de3-49d6-a357-a052c68cd852",
     "showTitle": false,
     "tableResultSettingsMap": {},
     "title": ""
    }
   },
   "source": [
    "### 4.4 Qual a distribuição geográfica das categorias de crime dentro do estado de São Paulo?\n",
    "\n",
    "Perguntas relacionadas à distribuição dos tipos ou categorias de crime nos diferentes municípios do estado:\n",
    "\n",
    "- Qual o percentual de registro de cada tipo de crime nos anos de 2022, 2023 e 2024 em cada município de São Paulo?\n",
    "- Qual a distribuição geográfica das categorias de crime dentro de cada município?\n",
    "- Qual a taxa de registro a cada 100 mil habitantes das 3 maiores categorias de crime de cada município?"
   ]
  },
  {
   "cell_type": "markdown",
   "metadata": {
    "application/vnd.databricks.v1+cell": {
     "cellMetadata": {},
     "inputWidgets": {},
     "nuid": "2e08f532-036b-4a2c-9834-317001df5196",
     "showTitle": false,
     "tableResultSettingsMap": {},
     "title": ""
    }
   },
   "source": [
    "# Autoavaliação\n",
    "Consegui atingir parcialmente os objetivos propostos para este trabalho. A principal dificuldade foi perceber tarde demais a complexidade do conjunto de análises que me propus a realizar. Ao tentar incorporar muitas visualizações e comparações complexas, acabei não respondendo a todas as perguntas delineadas inicialmente. A falta de foco na etapa de escopo tornou o fechamento do MVP mais desafiador.\n",
    "\n",
    "O maior obstáculo técnico foi o uso da plataforma Databricks, especialmente no que diz respeito à manipulação de grandes volumes de dados com PySpark — uma biblioteca com a qual eu tinha menos familiaridade, em contraste com minha experiência prévia com pandas. Tive problemas com a importação de bibliotecas, organização de células e lentidão na execução, além da curva de aprendizado da própria plataforma.\n",
    "\n",
    "Se eu tivesse mais tempo, faria uma análise aprofundada dos municípios do estado de São Paulo, criando dashboards com indicadores por município e cruzando essas informações com dados sociodemográficos do IBGE. Também separaria a cidade de São Paulo por zonas ou distritos e analisaria temporalidade, campos de texto dos boletins, e níveis de violência dos crimes.\n",
    "\n",
    "Apesar disso, considero este trabalho um avanço significativo em relação à análise anterior que realizei apenas com dados de 6 meses da capital. A expansão para o estado inteiro me preparou para análises futuras mais complexas — que certamente pretendo realizar como parte do meu portfólio."
   ]
  }
 ],
 "metadata": {
  "application/vnd.databricks.v1+notebook": {
   "computePreferences": null,
   "dashboards": [],
   "environmentMetadata": {
    "base_environment": "",
    "environment_version": "1"
   },
   "inputWidgetPreferences": null,
   "language": "python",
   "notebookMetadata": {
    "pythonIndentUnit": 4
   },
   "notebookName": "03_analise_gold",
   "widgets": {}
  }
 },
 "nbformat": 4,
 "nbformat_minor": 0
}